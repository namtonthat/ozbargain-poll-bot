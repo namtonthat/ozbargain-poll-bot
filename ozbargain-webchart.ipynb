{
 "cells": [
  {
   "cell_type": "code",
   "execution_count": 1,
   "metadata": {},
   "outputs": [],
   "source": [
    "## Create webchart of ozbargain polls"
   ]
  },
  {
   "cell_type": "code",
   "execution_count": 78,
   "metadata": {},
   "outputs": [],
   "source": [
    "from bs4 import BeautifulSoup\n",
    "import requests\n",
    "import pandas as pd \n",
    "from math import pi\n",
    "import os\n",
    "\n",
    "from bokeh.io import show, save, output_file\n",
    "from bokeh.plotting import figure, curdoc\n",
    "from bokeh.palettes import Category20c\n",
    "from bokeh.transform import cumsum\n"
   ]
  },
  {
   "cell_type": "code",
   "execution_count": 71,
   "metadata": {},
   "outputs": [],
   "source": [
    "poll_url = \"https://www.ozbargain.com.au/forum/polls\"\n",
    "page = requests.get(poll_url)\n",
    "soup = BeautifulSoup(page.content, \"html.parser\")\n",
    "active_polls = soup.find_all(\"td\", {'class': \"topic\"})"
   ]
  },
  {
   "cell_type": "code",
   "execution_count": 75,
   "metadata": {},
   "outputs": [],
   "source": [
    "import logging\n",
    "logging.basicConfig()\n",
    "LOGGER = logging.getLogger(__name__)\n",
    "LOGGER.setLevel(logging.INFO)\n"
   ]
  },
  {
   "cell_type": "code",
   "execution_count": 72,
   "metadata": {},
   "outputs": [],
   "source": [
    "url = \"https://www.ozbargain.com.au/forum/polls\"\n",
    "page = requests.get(url)\n",
    "soup = BeautifulSoup(page.content, \"html.parser\")\n",
    "all_polls =soup.find_all(\"td\", {'class': \"topic\"})\n",
    "\n",
    "poll_ids = []\n",
    "# LOGGER.info('Sourcing active polls')\n",
    "for poll in all_polls:\n",
    "    is_marker_expired = poll.find(\"span\", class_=\"marker expired\")\n",
    "\n",
    "    if not is_marker_expired:\n",
    "        url_poll_id = poll.select('a')[0].get('href')\n",
    "        poll_id = url_poll_id.split('/')[-1]\n",
    "        poll_ids.append(poll_id)\n",
    "\n"
   ]
  },
  {
   "cell_type": "code",
   "execution_count": 104,
   "metadata": {},
   "outputs": [],
   "source": [
    "\n",
    "def generate_poll_webchart(id):\n",
    "       \"Generates a pie chart for a given poll\"\n",
    "       prefix_url = \"https://www.ozbargain.com.au/node/\"\n",
    "       url = prefix_url + str(id)\n",
    "       page = requests.get(url)\n",
    "       soup = BeautifulSoup(page.content, 'html.parser')\n",
    "       poll = soup.find(id=\"poll\")\n",
    "       \n",
    "       # scraping data\n",
    "       span_vote = poll.find_all(\"span\", class_=\"nvb voteup\")\n",
    "       span_options = poll.find_all(\"span\", class_=\"polltext\")\n",
    "       options = [option.get_text() for option in span_options]\n",
    "       votes = [int(vote.get_text()) for vote in span_vote]\n",
    "       title = soup.find(\"title\").text.split(\" - \")[0]\n",
    "       # set theme \n",
    "       curdoc().theme='light_minimal'\n",
    "\n",
    "       # create figure\n",
    "       p = figure(width=1000, height=1000, title=f\"{title}\",\n",
    "              tooltips=\"@options: @value\", x_range=(-0.5, 1.0))\n",
    "\n",
    "       x = dict(zip(options, votes))\n",
    "       data = pd.Series(x).reset_index(name='value').rename(columns={'index': 'options'})\n",
    "       data['angle'] = data['value']/data['value'].sum() * 2*pi\n",
    "       data['color'] = Category20c[len(x)]\n",
    "\n",
    "\n",
    "       p.wedge(x=0, y=1, radius=0.4,\n",
    "              start_angle=cumsum('angle', include_zero=True), end_angle=cumsum('angle'),\n",
    "              line_color=\"white\", fill_color='color', legend_field='options', source=data)\n",
    "\n",
    "       p.axis.axis_label = None\n",
    "       p.axis.visible = False\n",
    "       p.grid.grid_line_color = None\n",
    "\n",
    "       output_path = f\"outputs/\"\n",
    "       if not os.path.exists(output_path):\n",
    "         os.makedirs(output_path)\n",
    "\n",
    "       LOGGER.info('Generating webchart for poll: %s', id)\n",
    "       # setting output \n",
    "       output_file(filename=f\"{output_path}/{poll_id}.html\", title=title)\n",
    "\n",
    "       save(p)"
   ]
  },
  {
   "cell_type": "code",
   "execution_count": 105,
   "metadata": {},
   "outputs": [
    {
     "name": "stderr",
     "output_type": "stream",
     "text": [
      "INFO:__main__:Generating webchart for poll: 738230\n"
     ]
    }
   ],
   "source": [
    "poll_id = 738230\n",
    "generate_poll_webchart(poll_id)"
   ]
  },
  {
   "cell_type": "code",
   "execution_count": 103,
   "metadata": {},
   "outputs": [],
   "source": [
    "id = 738230\n",
    "prefix_url = \"https://www.ozbargain.com.au/node/\"\n",
    "url = prefix_url + str(id)\n",
    "page = requests.get(url)\n",
    "soup = BeautifulSoup(page.content, 'html.parser')\n",
    "poll = soup.find(id=\"poll\")\n",
    "# scraping data\n",
    "span_vote = poll.find_all(\"span\", class_=\"nvb voteup\")\n",
    "span_options = poll.find_all(\"span\", class_=\"polltext\")\n",
    "options = [option.get_text() for option in span_options]\n",
    "votes = [int(vote.get_text()) for vote in span_vote]\n",
    "title = soup.find(\"title\").text.split(\" - \")[0]\n",
    "# set theme \n",
    "curdoc().theme='light_minimal'\n",
    "\n",
    "# setting output \n",
    "# output_file(filename=f\"{poll_id}.html\", title=title)\n",
    "\n",
    "# create figure\n",
    "p = figure(width=1000, height=1000, title=f\"{title}\",\n",
    "        tooltips=\"@options: @value\", x_range=(-0.5, 1.0))\n",
    "\n",
    "x = dict(zip(options, votes))\n",
    "data = pd.Series(x).reset_index(name='value').rename(columns={'index': 'options'})\n",
    "data['angle'] = data['value']/data['value'].sum() * 2*pi\n",
    "data['color'] = Category20c[len(x)]\n",
    "\n",
    "\n",
    "p.wedge(x=0, y=1, radius=0.4,\n",
    "        start_angle=cumsum('angle', include_zero=True), end_angle=cumsum('angle'),\n",
    "        line_color=\"white\", fill_color='color', legend_field='options', source=data)\n",
    "\n",
    "p.axis.axis_label = None\n",
    "p.axis.visible = False\n",
    "p.grid.grid_line_color = None\n",
    "\n",
    "show(p)\n",
    "\n",
    "# customisation\n",
    "# p.xgrid.grid_line_color = None\n",
    "# p.xaxis.axis_label_text_font=\"source\"\n",
    "# p.xaxis.axis_label = \"Options\"\n",
    "# p.yaxis.axis_label = \"Votes\"\n",
    "# p.y_range.start = 0\n",
    "\n",
    "\n",
    "# output_path = f\"outputs/\"\n",
    "# if not os.path.exists(output_path):\n",
    "#     os.makedirs(output_path)\n",
    "\n",
    "# LOGGER.info('Generating webchart for poll: %s', id)"
   ]
  },
  {
   "cell_type": "code",
   "execution_count": 6,
   "metadata": {},
   "outputs": [],
   "source": [
    "generate_poll_webchart(poll_id)"
   ]
  }
 ],
 "metadata": {
  "kernelspec": {
   "display_name": "ozbargain",
   "language": "python",
   "name": "ozbargain"
  },
  "language_info": {
   "codemirror_mode": {
    "name": "ipython",
    "version": 3
   },
   "file_extension": ".py",
   "mimetype": "text/x-python",
   "name": "python",
   "nbconvert_exporter": "python",
   "pygments_lexer": "ipython3",
   "version": "3.11.0"
  },
  "orig_nbformat": 4,
  "vscode": {
   "interpreter": {
    "hash": "626ccb21f3a85c4660448925f9bbb9536e050b927a3eb900403202da535390c3"
   }
  }
 },
 "nbformat": 4,
 "nbformat_minor": 2
}

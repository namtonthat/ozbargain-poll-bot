{
 "cells": [
  {
   "cell_type": "code",
   "execution_count": 1,
   "metadata": {},
   "outputs": [],
   "source": [
    "## Create webchart of ozbargain polls"
   ]
  },
  {
   "cell_type": "code",
   "execution_count": 82,
   "metadata": {},
   "outputs": [],
   "source": [
    "from bs4 import BeautifulSoup\n",
    "import requests\n",
    "import pandas as pd \n",
    "from math import pi\n",
    "import os\n",
    "\n",
    "from bokeh.io import show, save, output_file\n",
    "from bokeh.plotting import figure, curdoc\n",
    "from bokeh.palettes import TolRainbow, Sunset\n",
    "from bokeh.transform import cumsum\n"
   ]
  },
  {
   "cell_type": "code",
   "execution_count": 2,
   "metadata": {},
   "outputs": [],
   "source": [
    "import logging\n",
    "logging.basicConfig()\n",
    "LOGGER = logging.getLogger(__name__)\n",
    "LOGGER.setLevel(logging.INFO)\n"
   ]
  },
  {
   "cell_type": "code",
   "execution_count": 3,
   "metadata": {},
   "outputs": [],
   "source": [
    "def find_all_active_polls():\n",
    "    \"\"\"\n",
    "    Finds all active polls on Ozbargain\n",
    "    \"\"\"\n",
    "    url = \"https://www.ozbargain.com.au/forum/polls\"\n",
    "    page = requests.get(url)\n",
    "    soup = BeautifulSoup(page.content, \"html.parser\")\n",
    "    all_polls =soup.find_all(\"td\", {'class': \"topic\"})\n",
    "\n",
    "    poll_ids = []\n",
    "    LOGGER.info('Sourcing active polls')\n",
    "    for poll in all_polls:\n",
    "        is_expired = poll.find(\"span\", class_=\"marker expired\")\n",
    "        if not is_expired:\n",
    "            url_poll_id = poll.select('a')[0].get('href')\n",
    "            poll_id = url_poll_id.split('/')[-1]\n",
    "            poll_ids.append(poll_id)\n",
    "\n",
    "    return poll_ids"
   ]
  },
  {
   "cell_type": "code",
   "execution_count": 102,
   "metadata": {},
   "outputs": [],
   "source": [
    "def create_bokeh_plot(options, votes, title, id): \n",
    "    \"Generate bokeh plot\"\n",
    "    LOGGER.info('Data found for %s', id)\n",
    "    x = dict(zip(options, votes))\n",
    "    data = pd.Series(x).reset_index(name='value').rename(columns={'index': 'options'})\n",
    "    data['angle'] = data['value']/data['value'].sum() * 2*pi\n",
    "    if len(x) > 2:\n",
    "            data['color'] = TolRainbow[len(x)]\n",
    "    elif (len(x) > 0) and (len(x) <=2):\n",
    "            data['color'] = Sunset[3][:len(x)]\n",
    "\n",
    "    # checks whether an options exists\n",
    "    # set theme\n",
    "    curdoc().theme='light_minimal'\n",
    "\n",
    "    # create figure\n",
    "    p = figure(width=1000, height=1000, title=f\"{title}\",\n",
    "            tooltips=\"@options: @value\", x_range=(-0.5, 1.0), name='pie')\n",
    "\n",
    "\n",
    "    p.wedge(x=0, y=1, radius=0.4,\n",
    "            start_angle=cumsum('angle', include_zero=True), end_angle=cumsum('angle'),\n",
    "            line_color=\"white\", fill_color='color', legend_field='options', source=data)\n",
    "\n",
    "    p.axis.axis_label = None\n",
    "    p.axis.visible = False\n",
    "    p.grid.grid_line_color = None\n",
    "    p.title.text_font='tahoma'\n",
    "\n",
    "    LOGGER.info('Generating webchart for poll: %s', id)\n",
    "\n",
    "    # setting output\n",
    "    output_file(filename=f\"{OUTPUT_PATH}/{id}.html\", title=title)\n",
    "\n",
    "    save(p)\n",
    "    \n",
    "    return"
   ]
  },
  {
   "cell_type": "code",
   "execution_count": 103,
   "metadata": {},
   "outputs": [],
   "source": [
    "def generate_poll_webchart(id):\n",
    "    \"Generates a pie chart for a given poll\"\n",
    "    url = PREFIX_URL + str(id)\n",
    "    page = requests.get(url)\n",
    "    soup = BeautifulSoup(page.content, 'html.parser')\n",
    "    poll = soup.find(id=\"poll\")\n",
    "    LOGGER.info('Parsing data for %s', id)\n",
    "    # scraping data\n",
    "    try:\n",
    "            span_vote = poll.find_all(\"span\", class_=\"nvb voteup\")\n",
    "            span_options = poll.find_all(\"span\", class_=\"polltext\")\n",
    "            options = [option.get_text() for option in span_options]\n",
    "            votes = [int(vote.get_text()) for vote in span_vote]\n",
    "            title = soup.find(\"title\").text.split(\" - \")[0]\n",
    "            if options: \n",
    "                create_bokeh_plot(options, votes, title, id)\n",
    "                return title,id\n",
    "    except AttributeError:\n",
    "            LOGGER.info('No data found for %s', id)\n",
    "            return            "
   ]
  },
  {
   "cell_type": "code",
   "execution_count": 116,
   "metadata": {},
   "outputs": [
    {
     "name": "stderr",
     "output_type": "stream",
     "text": [
      "INFO:__main__:Sourcing active polls\n",
      "INFO:__main__:Parsing data for 739498\n",
      "INFO:__main__:Data found for 739498\n",
      "INFO:__main__:Generating webchart for poll: 739498\n"
     ]
    }
   ],
   "source": [
    "if __name__ == \"__main__\":\n",
    "    PREFIX_URL = \"https://www.ozbargain.com.au/node/\"\n",
    "\n",
    "    OUTPUT_PATH = \"dist/\"\n",
    "    if not os.path.exists(OUTPUT_PATH):\n",
    "        os.makedirs(OUTPUT_PATH)\n",
    "\n",
    "    active_polls = find_all_active_polls()\n",
    "    \n",
    "    pie_charts = []\n",
    "    active_polls=[739498]\n",
    "    for poll_id in active_polls:\n",
    "        pie_chart = generate_poll_webchart(poll_id)\n",
    "        pie_charts.append(pie_chart)\n",
    "\n",
    "\n",
    "    create_html_page(pie_charts)"
   ]
  },
  {
   "cell_type": "code",
   "execution_count": 105,
   "metadata": {},
   "outputs": [
    {
     "data": {
      "text/plain": [
       "[('New Router Needed', 739498)]"
      ]
     },
     "execution_count": 105,
     "metadata": {},
     "output_type": "execute_result"
    }
   ],
   "source": [
    "pie_charts"
   ]
  },
  {
   "cell_type": "code",
   "execution_count": 115,
   "metadata": {},
   "outputs": [],
   "source": [
    "import markdown2\n",
    "def create_html_page(title_and_id_array):\n",
    "    \"\"\" Create navigation webpage for all available Ozbargain Polls within the last day\"\"\"\n",
    "    markdown_text = \"## Ozbargain Active Polls (within the last 24 hours)\\n\\n\"\n",
    "\n",
    "    for (title, value) in title_and_id_array: \n",
    "        markdown_text+=f\"* <a href='{PREFIX_URL}/{value}' title='Ozbargain Poll'>({value})</a> <a href='{value}.html' title='Rendered Pie Chart'>{title}</a>\\n\"\n",
    "\n",
    "    html_page = markdown2.markdown(markdown_text)\n",
    "    index_path = f\"{OUTPUT_PATH}/index.html\"\n",
    "\n",
    "    with open(f'{index_path}', 'w+') as f: \n",
    "        f.write(html_page)\n",
    "    \n",
    "    return "
   ]
  },
  {
   "cell_type": "code",
   "execution_count": null,
   "metadata": {},
   "outputs": [],
   "source": []
  }
 ],
 "metadata": {
  "kernelspec": {
   "display_name": "Python 3.11.0 ('ozbargain-A99qKUXa-py3.11')",
   "language": "python",
   "name": "python3"
  },
  "language_info": {
   "codemirror_mode": {
    "name": "ipython",
    "version": 3
   },
   "file_extension": ".py",
   "mimetype": "text/x-python",
   "name": "python",
   "nbconvert_exporter": "python",
   "pygments_lexer": "ipython3",
   "version": "3.11.0"
  },
  "orig_nbformat": 4,
  "vscode": {
   "interpreter": {
    "hash": "9034f5764976a150f2053195221b83f1580a3708bf21f87c9c9660af3aa28515"
   }
  }
 },
 "nbformat": 4,
 "nbformat_minor": 2
}

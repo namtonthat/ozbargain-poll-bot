{
 "cells": [
  {
   "cell_type": "code",
   "execution_count": 1,
   "metadata": {},
   "outputs": [],
   "source": [
    "## Create webchart of ozbargain polls"
   ]
  },
  {
   "cell_type": "code",
   "execution_count": 28,
   "metadata": {},
   "outputs": [],
   "source": [
    "from bs4 import BeautifulSoup\n",
    "import requests\n",
    "import pandas as pd \n",
    "from math import pi\n",
    "import os\n",
    "\n",
    "from bokeh.io import show, save, output_file\n",
    "from bokeh.plotting import figure, curdoc\n",
    "from bokeh.palettes import TolRainbow, Sunset\n",
    "from bokeh.transform import cumsum\n"
   ]
  },
  {
   "cell_type": "code",
   "execution_count": 2,
   "metadata": {},
   "outputs": [],
   "source": []
  },
  {
   "cell_type": "code",
   "execution_count": 3,
   "metadata": {},
   "outputs": [],
   "source": [
    "import logging\n",
    "logging.basicConfig()\n",
    "LOGGER = logging.getLogger(__name__)\n",
    "LOGGER.setLevel(logging.INFO)\n"
   ]
  },
  {
   "cell_type": "code",
   "execution_count": 7,
   "metadata": {},
   "outputs": [],
   "source": [
    "def find_all_active_polls():\n",
    "    \"\"\"\n",
    "    Finds all active polls on Ozbargain\n",
    "    \"\"\"\n",
    "    url = \"https://www.ozbargain.com.au/forum/polls\"\n",
    "    page = requests.get(url)\n",
    "    soup = BeautifulSoup(page.content, \"html.parser\")\n",
    "    all_polls =soup.find_all(\"td\", {'class': \"topic\"})\n",
    "\n",
    "    poll_ids = []\n",
    "    LOGGER.info('Sourcing active polls')\n",
    "    for poll in all_polls:\n",
    "        is_expired = poll.find(\"span\", class_=\"marker expired\")\n",
    "        if not is_expired:\n",
    "            url_poll_id = poll.select('a')[0].get('href')\n",
    "            poll_id = url_poll_id.split('/')[-1]\n",
    "            poll_ids.append(poll_id)\n",
    "\n",
    "    return poll_ids"
   ]
  },
  {
   "cell_type": "code",
   "execution_count": 22,
   "metadata": {},
   "outputs": [],
   "source": [
    "from bokeh.palettes import __palettes__, all_palettes"
   ]
  },
  {
   "cell_type": "code",
   "execution_count": 26,
   "metadata": {},
   "outputs": [
    {
     "data": {
      "text/plain": [
       "('#FEFBE9', '#FCF7D5', '#F5F3C1')"
      ]
     },
     "execution_count": 26,
     "metadata": {},
     "output_type": "execute_result"
    }
   ],
   "source": [
    "Iridescent[3][]"
   ]
  },
  {
   "cell_type": "code",
   "execution_count": 25,
   "metadata": {},
   "outputs": [
    {
     "data": {
      "text/plain": [
       "('Accent3',\n",
       " 'Accent4',\n",
       " 'Accent5',\n",
       " 'Accent6',\n",
       " 'Accent7',\n",
       " 'Accent8',\n",
       " 'Blues3',\n",
       " 'Blues4',\n",
       " 'Blues5',\n",
       " 'Blues6')"
      ]
     },
     "execution_count": 25,
     "metadata": {},
     "output_type": "execute_result"
    }
   ],
   "source": [
    "tuple(__palettes__[:10])"
   ]
  },
  {
   "cell_type": "code",
   "execution_count": 57,
   "metadata": {},
   "outputs": [],
   "source": [
    "\n",
    "def generate_poll_webchart(id):\n",
    "       \"Generates a pie chart for a given poll\"\n",
    "       prefix_url = \"https://www.ozbargain.com.au/node/\"\n",
    "       url = prefix_url + str(id)\n",
    "       page = requests.get(url)\n",
    "       soup = BeautifulSoup(page.content, 'html.parser')\n",
    "       poll = soup.find(id=\"poll\")\n",
    "       LOGGER.info('Parsing data for %s', id)\n",
    "       # scraping data\n",
    "       try: \n",
    "              span_vote = poll.find_all(\"span\", class_=\"nvb voteup\")\n",
    "              span_options = poll.find_all(\"span\", class_=\"polltext\")\n",
    "              options = [option.get_text() for option in span_options]\n",
    "              votes = [int(vote.get_text()) for vote in span_vote]\n",
    "              title = soup.find(\"title\").text.split(\" - \")[0]\n",
    "       except AttributeError:\n",
    "              LOGGER.info('No data found for %s', id)\n",
    "              return\n",
    "              \n",
    "       if options:\n",
    "              x = dict(zip(options, votes))\n",
    "              data = pd.Series(x).reset_index(name='value').rename(columns={'index': 'options'})\n",
    "              data['angle'] = data['value']/data['value'].sum() * 2*pi\n",
    "              if len(x) > 2:\n",
    "                     data['color'] = TolRainbow[len(x)]\n",
    "              elif (len(x) > 0) and (len(x) <=2): \n",
    "                     data['color'] = Sunset[3][:len(x)]\n",
    "              \n",
    "              # checks whether an options exists\n",
    "              # set theme \n",
    "              curdoc().theme='light_minimal'\n",
    "\n",
    "              # create figure\n",
    "              p = figure(width=1000, height=1000, title=f\"{title}\",\n",
    "                     tooltips=\"@options: @value\", x_range=(-0.5, 1.0))\n",
    "\n",
    "\n",
    "              p.wedge(x=0, y=1, radius=0.4,\n",
    "                     start_angle=cumsum('angle', include_zero=True), end_angle=cumsum('angle'),\n",
    "                     line_color=\"white\", fill_color='color', legend_field='options', source=data)\n",
    "\n",
    "              p.axis.axis_label = None\n",
    "              p.axis.visible = False\n",
    "              p.grid.grid_line_color = None\n",
    "\n",
    "              output_path = f\"outputs/\"\n",
    "              if not os.path.exists(output_path):\n",
    "                     os.makedirs(output_path)\n",
    "\n",
    "              LOGGER.info('Generating webchart for poll: %s', id)\n",
    "              # setting output \n",
    "              output_file(filename=f\"{output_path}/{id}.html\", title=title)\n",
    "\n",
    "              save(p)"
   ]
  },
  {
   "cell_type": "code",
   "execution_count": 58,
   "metadata": {},
   "outputs": [
    {
     "name": "stderr",
     "output_type": "stream",
     "text": [
      "INFO:__main__:Parsing data for 741922\n"
     ]
    }
   ],
   "source": [
    "if __name__ == \"__main__\":\n",
    "    # active_polls = find_all_active_polls()\n",
    "    active_polls = [741922]\n",
    "    for poll_id in active_polls:\n",
    "        generate_poll_webchart(poll_id)"
   ]
  },
  {
   "cell_type": "code",
   "execution_count": null,
   "metadata": {},
   "outputs": [],
   "source": []
  },
  {
   "cell_type": "code",
   "execution_count": 51,
   "metadata": {},
   "outputs": [
    {
     "name": "stdout",
     "output_type": "stream",
     "text": [
      "<div class=\"block ozbpoll\" data-expired=\"0\" data-nid=\"736920\" data-revote=\"0\" id=\"poll\">\n",
      "<h3 class=\"blocktitle clearfix\">\n",
      "<span>Poll Options</span>\n",
      "<span class=\"options\">\n",
      "</span>\n",
      "</h3>\n",
      "<div class=\"blockcontent spacer\">\n",
      "<ul>\n",
      "<li data-oid=\"25967\" id=\"poll-25967\">\n",
      "<div class=\"n-vote\"><span class=\"nvb voteup\"><i class=\"fa fa-plus\"></i><span>21</span></span></div>\n",
      "<div class=\"polltext\">\n",
      "<span class=\"polltext\">No</span> </div>\n",
      "</li>\n",
      "<li data-oid=\"25966\" id=\"poll-25966\">\n",
      "<div class=\"n-vote\"><span class=\"nvb voteup\"><i class=\"fa fa-plus\"></i><span>2</span></span></div>\n",
      "<div class=\"polltext\">\n",
      "<span class=\"polltext\">Yes</span> </div>\n",
      "</li>\n",
      "</ul>\n",
      "<div class=\"meta\"></div>\n",
      "</div>\n",
      "</div>\n"
     ]
    }
   ],
   "source": [
    "id = 736920\n",
    "prefix_url = \"https://www.ozbargain.com.au/node/\"\n",
    "url = prefix_url + str(id)\n",
    "page = requests.get(url)\n",
    "soup = BeautifulSoup(page.content, 'html.parser')\n",
    "poll = soup.find(id=\"poll\")\n",
    "# scraping data\n",
    "try: \n",
    "        span_vote = poll.find_all(\"span\", class_=\"nvb voteup\")\n",
    "        span_options = poll.find_all(\"span\", class_=\"polltext\")\n",
    "        options = [option.get_text() for option in span_options]\n",
    "        votes = [int(vote.get_text()) for vote in span_vote]\n",
    "        title = soup.find(\"title\").text.split(\" - \")[0]\n",
    "except AttributeError:\n",
    "        LOGGER.info('No data found for %s', id)\n",
    "        return\n",
    "\n",
    "\n",
    "# set theme \n",
    "curdoc().theme='light_minimal'\n",
    "\n",
    "# setting output \n",
    "# output_file(filename=f\"{poll_id}.html\", title=title)\n",
    "\n",
    "# create figure\n",
    "p = figure(width=1000, height=1000, title=f\"{title}\",\n",
    "tooltips=\"@options: @value\", x_range=(-0.5, 1.0))\n",
    "\n",
    "x = dict(zip(options, votes))\n",
    "data = pd.Series(x).reset_index(name='value').rename(columns={'index': 'options'})\n",
    "data['angle'] = data['value']/data['value'].sum() * 2*pi\n",
    "if len(x) > 2:\n",
    "        data['color'] = TolRainbow[len(x)]\n",
    "elif (len(x) > 0) and (len(x) <=2): \n",
    "        data['color'] = Sunset[3][:len(x)]\n",
    "\n",
    "\n",
    "\n",
    "p.wedge(x=0, y=1, radius=0.4,\n",
    "start_angle=cumsum('angle', include_zero=True), end_angle=cumsum('angle'),\n",
    "line_color=\"white\", fill_color='color', legend_field='options', source=data)\n",
    "\n",
    "p.axis.axis_label = None\n",
    "p.axis.visible = False\n",
    "p.grid.grid_line_color = None\n",
    "\n",
    "show(p)\n",
    "\n",
    "# customisation\n",
    "# p.xgrid.grid_line_color = None\n",
    "# p.xaxis.axis_label_text_font=\"source\"\n",
    "# p.xaxis.axis_label = \"Options\"\n",
    "# p.yaxis.axis_label = \"Votes\"\n",
    "# p.y_range.start = 0\n",
    "\n",
    "\n",
    "# output_path = f\"outputs/\"\n",
    "# if not os.path.exists(output_path):\n",
    "#     os.makedirs(output_path)\n",
    "\n",
    "# LOGGER.info('Generating webchart for poll: %s', id)"
   ]
  },
  {
   "cell_type": "code",
   "execution_count": 6,
   "metadata": {},
   "outputs": [],
   "source": [
    "generate_poll_webchart(poll_id)"
   ]
  }
 ],
 "metadata": {
  "kernelspec": {
   "display_name": "ozbargain",
   "language": "python",
   "name": "ozbargain"
  },
  "language_info": {
   "codemirror_mode": {
    "name": "ipython",
    "version": 3
   },
   "file_extension": ".py",
   "mimetype": "text/x-python",
   "name": "python",
   "nbconvert_exporter": "python",
   "pygments_lexer": "ipython3",
   "version": "3.11.0"
  },
  "orig_nbformat": 4,
  "vscode": {
   "interpreter": {
    "hash": "626ccb21f3a85c4660448925f9bbb9536e050b927a3eb900403202da535390c3"
   }
  }
 },
 "nbformat": 4,
 "nbformat_minor": 2
}

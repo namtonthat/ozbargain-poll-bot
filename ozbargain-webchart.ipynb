{
 "cells": [
  {
   "cell_type": "code",
   "execution_count": 1,
   "metadata": {},
   "outputs": [],
   "source": [
    "## Create webchart of ozbargain polls"
   ]
  },
  {
   "cell_type": "code",
   "execution_count": 4,
   "metadata": {},
   "outputs": [],
   "source": [
    "from bs4 import BeautifulSoup\n",
    "import requests\n",
    "\n",
    "from bokeh.io import show, export_png\n",
    "from bokeh.plotting import figure\n",
    "from datetime import datetime\n",
    "import os"
   ]
  },
  {
   "cell_type": "code",
   "execution_count": null,
   "metadata": {},
   "outputs": [],
   "source": [
    "poll_url = \"https://www.ozbargain.com.au/forum/polls\"\n",
    "page = requests.get(poll_url)\n",
    "soup = BeautifulSoup(page.content, \"html.parser\")\n",
    "active_polls = soup.find_all(\"td\", {'class': \"topic\"})"
   ]
  },
  {
   "cell_type": "code",
   "execution_count": 10,
   "metadata": {},
   "outputs": [],
   "source": [
    "prefix_url = \"https://www.ozbargain.com.au/node/\"\n",
    "poll_ids = [707482]\n",
    "for poll_id in poll_ids: \n",
    "   "
   ]
  },
  {
   "cell_type": "code",
   "execution_count": 18,
   "metadata": {},
   "outputs": [],
   "source": [
    "url = \"https://www.ozbargain.com.au/forum/polls\"\n",
    "page = requests.get(url)\n",
    "soup = BeautifulSoup(page.content, \"html.parser\")\n",
    "all_polls =soup.find_all(\"td\", {'class': \"topic\"})\n",
    "\n",
    "poll_ids = []\n",
    "# LOGGER.info('Sourcing active polls')\n",
    "for poll in all_polls:\n",
    "    is_expired = poll.find(\"span\", class_=\"marker expired\")\n",
    "    print(is_expired)\n",
    "    if not is_expired:\n",
    "        url_poll_id = poll.select('a')[0].get('href')\n",
    "        poll_id = url_poll_id.split('/')[-1]\n",
    "        poll_ids.append(poll_id)\n",
    "\n"
   ]
  },
  {
   "cell_type": "code",
   "execution_count": 19,
   "metadata": {},
   "outputs": [],
   "source": [
    "poll_id = 736658"
   ]
  },
  {
   "cell_type": "code",
   "execution_count": 21,
   "metadata": {},
   "outputs": [],
   "source": [
    "\n",
    "def generate_poll_webchart(id):\n",
    "    \"Generates a webchart for a given poll\"\n",
    "    prefix_url = \"https://www.ozbargain.com.au/node/\"\n",
    "    url = prefix_url + str(id)\n",
    "    page = requests.get(url)\n",
    "    soup = BeautifulSoup(page.content, 'html.parser')\n",
    "    poll = soup.find(id=\"poll\")\n",
    "    # scraping data\n",
    "    span_vote = poll.find_all(\"span\", class_=\"nvb voteup\")\n",
    "    span_options = poll.find_all(\"span\", class_=\"polltext\")\n",
    "    options = [option.get_text() for option in span_options]\n",
    "    votes = [vote.get_text() for vote in span_vote]\n",
    "    title = soup.find(\"title\").text.split(\" - \")[0]\n",
    "\n",
    "    # create figure\n",
    "    p = figure(x_range=options, height=250, title=title,\n",
    "           toolbar_location=None, tools=\"\")\n",
    "\n",
    "    p.vbar(x=options, top=votes, width=0.9)\n",
    "\n",
    "    # customisation\n",
    "    p.xgrid.grid_line_color = None\n",
    "    p.xaxis.axis_label = \"Options\"\n",
    "    p.yaxis.axis_label = \"Votes\"\n",
    "    p.y_range.start = 0\n",
    "\n",
    "    output_path = f\"outputs/\"\n",
    "    if not os.path.exists(output_path):\n",
    "      os.makedirs(output_path)\n",
    "\n",
    "    # LOGGER.info('Generating webchart for poll: %s', id)\n",
    "    export_png(p, filename=f\"{output_path}/{poll_id}.png\")"
   ]
  },
  {
   "cell_type": "code",
   "execution_count": 23,
   "metadata": {},
   "outputs": [],
   "source": [
    "generate_poll_webchart(poll_id)"
   ]
  },
  {
   "cell_type": "code",
   "execution_count": null,
   "metadata": {},
   "outputs": [],
   "source": []
  }
 ],
 "metadata": {
  "kernelspec": {
   "display_name": "Python 3.10.8 ('dev')",
   "language": "python",
   "name": "python3"
  },
  "language_info": {
   "codemirror_mode": {
    "name": "ipython",
    "version": 3
   },
   "file_extension": ".py",
   "mimetype": "text/x-python",
   "name": "python",
   "nbconvert_exporter": "python",
   "pygments_lexer": "ipython3",
   "version": "3.10.8"
  },
  "orig_nbformat": 4,
  "vscode": {
   "interpreter": {
    "hash": "4e8a6c61661e5549cc6bdab3f9d0808a6c50845cd97b3a72920f7ef2fe75475f"
   }
  }
 },
 "nbformat": 4,
 "nbformat_minor": 2
}
